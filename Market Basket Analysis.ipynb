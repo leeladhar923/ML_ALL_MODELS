{
 "cells": [
  {
   "cell_type": "markdown",
   "id": "97a6b912-56b6-4d77-b64d-ebfa81252521",
   "metadata": {},
   "source": [
    "# Market Basket Analysis Using Apriori Algorithm\n",
    "This project is mostly used for E-commerce like walmart,amazon....."
   ]
  },
  {
   "cell_type": "markdown",
   "id": "dadbd227-c56b-4ba0-8379-41028891ab49",
   "metadata": {},
   "source": [
    "### kaggle notes links\n",
    "https://www.kaggle.com/code/yugagrawal95/market-basket-analysis-apriori-in-python\n",
    "\n",
    "\n",
    "https://www.kaggle.com/code/prasad22/market-basket-analysis-with-apriori-algorithm"
   ]
  },
  {
   "cell_type": "markdown",
   "id": "d0d5e4de-d735-4372-b887-c74635054d21",
   "metadata": {},
   "source": [
    "## Project Description:\n",
    "Market basket analysis is a data mining technique used by retailers to increase sales by better understanding of customer purchasing patterns. It involves analyzing large data sets, such as purchase history, to reveal product groupings, as well as products that are likely to be purchased together.\n",
    "\n",
    "Purpose:\n",
    "This will answer the questions like:\n",
    "\n",
    "Which items are frequently bought together?\n",
    "If a user buys an item X, which item is he/she likely to buy next?"
   ]
  },
  {
   "cell_type": "code",
   "execution_count": 12,
   "id": "5b0aed1d-18ed-474e-82ee-2cfb134bff3d",
   "metadata": {},
   "outputs": [
    {
     "ename": "ModuleNotFoundError",
     "evalue": "No module named 'mlxtend'",
     "output_type": "error",
     "traceback": [
      "\u001b[1;31m---------------------------------------------------------------------------\u001b[0m",
      "\u001b[1;31mModuleNotFoundError\u001b[0m                       Traceback (most recent call last)",
      "Cell \u001b[1;32mIn[12], line 8\u001b[0m\n\u001b[0;32m      6\u001b[0m \u001b[38;5;28;01mimport\u001b[39;00m \u001b[38;5;21;01mmatplotlib\u001b[39;00m\u001b[38;5;21;01m.\u001b[39;00m\u001b[38;5;21;01mstyle\u001b[39;00m\n\u001b[0;32m      7\u001b[0m get_ipython()\u001b[38;5;241m.\u001b[39mrun_line_magic(\u001b[38;5;124m'\u001b[39m\u001b[38;5;124mmatplotlib\u001b[39m\u001b[38;5;124m'\u001b[39m, \u001b[38;5;124m'\u001b[39m\u001b[38;5;124minline\u001b[39m\u001b[38;5;124m'\u001b[39m)\n\u001b[1;32m----> 8\u001b[0m \u001b[38;5;28;01mfrom\u001b[39;00m \u001b[38;5;21;01mmlxtend\u001b[39;00m\u001b[38;5;21;01m.\u001b[39;00m\u001b[38;5;21;01mfrequent_patterns\u001b[39;00m \u001b[38;5;28;01mimport\u001b[39;00m apriori,association_rules\n\u001b[0;32m      9\u001b[0m \u001b[38;5;28;01mfrom\u001b[39;00m \u001b[38;5;21;01mcollections\u001b[39;00m \u001b[38;5;28;01mimport\u001b[39;00m Counter\n\u001b[0;32m     10\u001b[0m \u001b[38;5;28;01mfrom\u001b[39;00m \u001b[38;5;21;01mIPython\u001b[39;00m\u001b[38;5;21;01m.\u001b[39;00m\u001b[38;5;21;01mdisplay\u001b[39;00m \u001b[38;5;28;01mimport\u001b[39;00m Image\n",
      "\u001b[1;31mModuleNotFoundError\u001b[0m: No module named 'mlxtend'"
     ]
    }
   ],
   "source": [
    "#Importing Libraries\n",
    "import pandas as pd\n",
    "import numpy as np\n",
    "import seaborn as sns\n",
    "import matplotlib.pyplot as plt\n",
    "import matplotlib.style\n",
    "%matplotlib inline\n",
    "from mlxtend.frequent_patterns import apriori,association_rules\n",
    "from collections import Counter\n",
    "from IPython.display import Image\n",
    "\n",
    "from warnings import filterwarnings\n",
    "filterwarnings(\"ignore\")"
   ]
  },
  {
   "cell_type": "code",
   "execution_count": null,
   "id": "7c885920-d1d8-4f2f-a53f-9c53a4f0c587",
   "metadata": {},
   "outputs": [],
   "source": [
    "#Loading Dataset\n",
    "df=pd.read_csv(\"D:\\DATA SCIENCE\\STATISTICS\\Groceries_dataset.csv\")"
   ]
  },
  {
   "cell_type": "code",
   "execution_count": null,
   "id": "c37b53aa-def6-42d7-89df-e2e445f2b50a",
   "metadata": {},
   "outputs": [],
   "source": [
    "df.shape"
   ]
  },
  {
   "cell_type": "code",
   "execution_count": null,
   "id": "4113ba0f-832b-42ce-bb71-94c7519f1a5e",
   "metadata": {},
   "outputs": [],
   "source": [
    "df.head()"
   ]
  },
  {
   "cell_type": "code",
   "execution_count": null,
   "id": "0f811796-99e1-4622-8296-e1876259163e",
   "metadata": {},
   "outputs": [],
   "source": [
    "#Data Discovery\n",
    "df.Member_number.nunique()"
   ]
  },
  {
   "cell_type": "code",
   "execution_count": null,
   "id": "4aba35f6-d58b-4430-b29f-753f2b6caf0b",
   "metadata": {},
   "outputs": [],
   "source": [
    "df.itemDescription.nunique()"
   ]
  },
  {
   "cell_type": "code",
   "execution_count": null,
   "id": "c90b7aa5-427e-4f78-af05-d3cfba5d0e9e",
   "metadata": {},
   "outputs": [],
   "source": [
    "df.Date.nunique()"
   ]
  },
  {
   "cell_type": "code",
   "execution_count": null,
   "id": "55284281-98bb-4ccd-bdc5-53006ad2ef5a",
   "metadata": {},
   "outputs": [],
   "source": [
    "df.isnull().sum().sort_values(ascending=False)"
   ]
  },
  {
   "cell_type": "code",
   "execution_count": null,
   "id": "7cc176b2-93cc-40dd-99a1-88af84b2bb85",
   "metadata": {},
   "outputs": [],
   "source": [
    "df[\"itemDescription\"].value_counts().head(10)"
   ]
  },
  {
   "cell_type": "markdown",
   "id": "d1e24113-9123-488b-92e6-b9349d3c3ad9",
   "metadata": {},
   "source": [
    "### Market Basket Analysis:\r\n",
    "Market Basket Analysis stands as a crucial technique employed by major retailers to unveil connections among products. This method involves searching for combinations of items that frequently appear together in customer transactions. In simpler terms, it empowers retailers to pinpoint correlations between the items purchased by customers.\r\n",
    "\r\n",
    "Association Rules are widely used to analyze retail basket or transaction data and are intended to identify strong patterns discovered in transaction data."
   ]
  },
  {
   "cell_type": "code",
   "execution_count": null,
   "id": "a1bcb82e-e5b8-47db-882d-531af850c4ef",
   "metadata": {},
   "outputs": [],
   "source": [
    "# Using groupby function to create a basket df, which specifies if an item is bought by particular Member\n",
    "# for all items and all Members\n",
    "# this will denote the tranasaction happened in the particular day which needs to be fixed\n",
    "\n",
    "basket = (df.groupby(['Member_number','itemDescription'])['Date'].count().unstack().reset_index().fillna(0).set_index('Member_number'))"
   ]
  },
  {
   "cell_type": "code",
   "execution_count": null,
   "id": "34887aab-a670-4fc0-b710-6779d65ccf09",
   "metadata": {},
   "outputs": [],
   "source": [
    "basket.head(10)"
   ]
  },
  {
   "cell_type": "code",
   "execution_count": null,
   "id": "7571839a-5781-4225-bad1-93145e5a6540",
   "metadata": {},
   "outputs": [],
   "source": [
    "#We are getting the per day transactions (example : 2,4,3) while we just want to know if that particular item is purchased or not\n",
    "#thus we are encoding units as 1(if purchased) or 0(not purchased)\n",
    "\n",
    "def encode_units(x):\n",
    "    if x < 1:\n",
    "        return 0\n",
    "    if x >= 1:\n",
    "        return 1\n",
    "\n",
    "\n",
    "basket = basket.applymap(encode_units)\n",
    "basket.head(10)"
   ]
  },
  {
   "cell_type": "markdown",
   "id": "0a4bb3ea-517e-4340-b8b2-1b390f6b3287",
   "metadata": {},
   "source": [
    "#### Association Rule Mining :\n",
    "Association rule mining is a process that deploys pattern recognition to identify and quantify relationship between different, yet related items.\n",
    "\n",
    "A simple association rules use case -\n",
    "\n",
    "Eggs and Bread are frequently purchased together. With this finding, you can increase sales by:\n",
    "\n",
    "Placing eggs and bread next to each other so that when a customer buys one of the products, they don't have to walk to buy the other product\n",
    "Advertising to buyer of either eggs or bread in order to increase that person's propensity to purchase the (paired) other product.\n",
    "Offer discounts on both eggs and bread if the customer buys both of them in one purchase.\n",
    "Association Rule: \"if item eggs are purchased,then the possibility of buying bread is __\"\n",
    "Can also be represented as:\r\n",
    "\r\n",
    "{eggs} -> {bread}\r\n",
    "Advantages :\r\n",
    "Relatively fast method\r\n",
    "Works well on small quantities of data\r\n",
    "Few(if any) feature engineering requirement\r\n",
    "Three Ways to Measure Association :\r\n",
    "Support\r\n",
    "Confidence\r\n",
    "Lift\r\n",
    "Illustration with an Example :\r\n",
    "Scenario : 5000 Total transaction in a supermarket - A = Bread Purchases = 500 Transactions - C = Eggs Purchases = 350 Transactions - (A->C) = Both Bread and Eggs Purchased = 150 \n",
    "Support :\r\n",
    "Support is a relative frequency of an item wthin a dataset.It basically expresses how popular the item is as represented by its proportion to the total items sold.\r\n",
    "Support for an item can be calculated as support(A->C) = Support (A ∪ C)\r\n",
    "\r\n",
    "Example:\r\n",
    "\r\n",
    "Support(Bread) = (Number of Transactions Containing the Bread) / (Total Number of Transactions)\r\n",
    "Support(Bread) = 500/5000 = 0.1\r\n",
    "Confidence :\r\n",
    "Confidence is the probability of seeing the consequent item  term) within data, given that the data also contains the antecendent (the \"if\" term) item\r\n",
    "In other words, confidence tells you (THEN) How likely it is for 1 item to be purchased given that, (IF) another item is purchased.\r\n",
    "Confidence determines how many if-then statements are found to be true within a dataset\r\n",
    "Confidence(A -> C) = (Support(A -> C)) / (Support(A))\r\n",
    "\r\n",
    "Where \r\n",
    "A - antecedent \r\n",
    "C - consequent\r\n",
    "\r\n",
    "Using the same example, the ;likelihood of buying eggs if bread are bought is :\r\n",
    "Confidence(Bread -> Eggs) = (150/5000) / (500/5000) = 0.3 = 30%\r\n",
    "So, there is 30% likelihood that eggs will be bought  purchased\n",
    "Lift :\r\n",
    "Lift is a metric that measures how much more often the antecedent and consequent occur together rather than them occuring independently.\r\n",
    "\r\n",
    "Lift(A -> C) = (Confidence(A -> C)) / (Support(C))\r\n",
    "\r\n",
    "Lift score >1: A is hightly associated with C. If A purchased, then it is highly likely that C will also be purchased.\r\n",
    "\r\n",
    "Lift score <1: If A purchased, then it is unlikely that C will be purchased.\r\n",
    "Lift score =1: Indicates that there is no association between items A and C.\r\n",
    "Lift(Bread -> Eggs) = 0.3 / (350/5000) = 4.28\r\n",
    "With a lift of 4.28, your rule would be \"If a customer buys bread, then they're likely to also buy eggs\".\r\n",
    "The Apriori Algorithm is the algorithm that you use to implment association rule mining over structured data.if bread is(a \"then\"Transactions"
   ]
  },
  {
   "cell_type": "code",
   "execution_count": null,
   "id": "2b0d2f24-233c-4f98-838f-eebdb9c21752",
   "metadata": {},
   "outputs": [],
   "source": [
    "##Implementation using mlxtend\n",
    "# trying out on a sample item\n",
    "whole_milk_df = basket.loc[basket['whole milk']==1]"
   ]
  },
  {
   "cell_type": "code",
   "execution_count": null,
   "id": "5638acb5-3f44-4ded-af6a-9d04a4fbc58a",
   "metadata": {},
   "outputs": [],
   "source": [
    "# Using apriori algorithm, creating association rules for the sample item\n",
    "\n",
    "# Applying apriori algorithm for whole_milk_df\n",
    "frequent_itemsets = apriori(whole_milk_df, min_support=0.15, use_colnames=True)"
   ]
  },
  {
   "cell_type": "code",
   "execution_count": null,
   "id": "d41b50c5-d422-41f6-bcd9-feaff0dc2730",
   "metadata": {},
   "outputs": [],
   "source": []
  }
 ],
 "metadata": {
  "kernelspec": {
   "display_name": "Python 3 (ipykernel)",
   "language": "python",
   "name": "python3"
  },
  "language_info": {
   "codemirror_mode": {
    "name": "ipython",
    "version": 3
   },
   "file_extension": ".py",
   "mimetype": "text/x-python",
   "name": "python",
   "nbconvert_exporter": "python",
   "pygments_lexer": "ipython3",
   "version": "3.12.4"
  }
 },
 "nbformat": 4,
 "nbformat_minor": 5
}
