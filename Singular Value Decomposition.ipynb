{
 "cells": [
  {
   "cell_type": "markdown",
   "id": "60b177aa-7d70-4b4e-9647-7ccd37aff8d6",
   "metadata": {},
   "source": [
    "## Singular Value Decomposition (SVD)\n",
    "\n",
    "As on slides, SVD of matrix A is:\n",
    "\n",
    "A = UDV^T\n",
    "\n",
    "Where:\n",
    "\n",
    "• U is an orthogonal m X m matrix; its columns are the left-singular vectors of A.\n",
    "\n",
    "• V is an orthogonal n x n matrix; its columns are the right-singular vectors of A.\n",
    "\n",
    "• D is a diagonal m X n matrix; elements along its diagonal are the singular values of A."
   ]
  },
  {
   "cell_type": "code",
   "execution_count": 5,
   "id": "a2953dbd-3c19-4a86-b5a8-cc7776158c71",
   "metadata": {},
   "outputs": [
    {
     "data": {
      "text/plain": [
       "array([[-1,  2],\n",
       "       [ 3, -2],\n",
       "       [ 5,  7]])"
      ]
     },
     "execution_count": 5,
     "metadata": {},
     "output_type": "execute_result"
    }
   ],
   "source": [
    "import numpy as np\n",
    "import pandas as pd\n",
    "from sklearn.datasets import load_digits\n",
    "A=np.array([[-1,2],[3,-2],[5,7]])\n",
    "A"
   ]
  },
  {
   "cell_type": "code",
   "execution_count": 7,
   "id": "ec57a0b7-51e9-4d86-8bbf-b46169ee6303",
   "metadata": {},
   "outputs": [],
   "source": [
    "U,d,VT=np.linalg.svd(A)#V is already transposed"
   ]
  },
  {
   "cell_type": "code",
   "execution_count": 9,
   "id": "b313e36c-a471-4457-9c0a-32658e1640a1",
   "metadata": {},
   "outputs": [
    {
     "data": {
      "text/plain": [
       "array([[ 0.12708324,  0.47409506,  0.87125411],\n",
       "       [ 0.00164602, -0.87847553,  0.47778451],\n",
       "       [ 0.99189069, -0.0592843 , -0.11241989]])"
      ]
     },
     "execution_count": 9,
     "metadata": {},
     "output_type": "execute_result"
    }
   ],
   "source": [
    "U"
   ]
  },
  {
   "cell_type": "code",
   "execution_count": 11,
   "id": "40b5723a-11e4-4343-b052-df4e4364ade5",
   "metadata": {},
   "outputs": [
    {
     "data": {
      "text/plain": [
       "array([8.66918448, 4.10429538])"
      ]
     },
     "execution_count": 11,
     "metadata": {},
     "output_type": "execute_result"
    }
   ],
   "source": [
    "d"
   ]
  },
  {
   "cell_type": "code",
   "execution_count": 13,
   "id": "00440e8e-0255-4af1-886a-888e0fe33cc0",
   "metadata": {},
   "outputs": [
    {
     "data": {
      "text/plain": [
       "array([[ 0.55798885,  0.82984845],\n",
       "       [-0.82984845,  0.55798885]])"
      ]
     },
     "execution_count": 13,
     "metadata": {},
     "output_type": "execute_result"
    }
   ],
   "source": [
    "VT"
   ]
  },
  {
   "cell_type": "code",
   "execution_count": 23,
   "id": "35ad0d0c-2829-4648-bfb6-bdc3318dadd5",
   "metadata": {},
   "outputs": [
    {
     "data": {
      "text/plain": [
       "array([[8.66918448, 0.        ],\n",
       "       [0.        , 4.10429538]])"
      ]
     },
     "execution_count": 23,
     "metadata": {},
     "output_type": "execute_result"
    }
   ],
   "source": [
    "np.diag(d)"
   ]
  },
  {
   "cell_type": "markdown",
   "id": "e99c700d-c6db-49fc-af54-b9e2b7a2dbf3",
   "metadata": {},
   "source": [
    "D must have the same dimension as for UDV^T matrix multiplication to be possible"
   ]
  },
  {
   "cell_type": "code",
   "execution_count": 32,
   "id": "53696800-4c24-4a74-a501-13ba6699a432",
   "metadata": {},
   "outputs": [
    {
     "data": {
      "text/plain": [
       "array([[8.66918448, 0.        ],\n",
       "       [0.        , 4.10429538],\n",
       "       [0.        , 0.        ]])"
      ]
     },
     "execution_count": 32,
     "metadata": {},
     "output_type": "execute_result"
    }
   ],
   "source": [
    "D=np.concatenate((np.diag(d),[[0,0]]),axis=0)\n",
    "D"
   ]
  },
  {
   "cell_type": "code",
   "execution_count": 35,
   "id": "b8b7cf9e-b6dd-4230-a3e0-61430ee11765",
   "metadata": {},
   "outputs": [
    {
     "data": {
      "text/plain": [
       "array([[-1.,  2.],\n",
       "       [ 3., -2.],\n",
       "       [ 5.,  7.]])"
      ]
     },
     "execution_count": 35,
     "metadata": {},
     "output_type": "execute_result"
    }
   ],
   "source": [
    "np.dot(U,np.dot(D,VT))"
   ]
  },
  {
   "cell_type": "markdown",
   "id": "c9ad349d-ffcd-4855-bf35-01a5df081192",
   "metadata": {},
   "source": [
    "SVD and eigendecomposition are closely related to each other:\n",
    "\n",
    "Left-singular vectors of A = eigenvectors of A * A ^ T\n",
    "\n",
    "Right-singular vectors of A = eigenvectors of A ^ T * A\n",
    "\n",
    "• Non-zero singular values of A = square roots of eigenvectors of A * A ^ T = square roots of eigenvectors of A ^ T * A\n",
    "\n",
    "Exercise: Using the matrix from the preceding PyTorch exercises, demonstrate that these three SVD-eigendecomposition equations are true."
   ]
  },
  {
   "cell_type": "code",
   "execution_count": null,
   "id": "743099c3-2fe9-4af1-a972-e2558796ea47",
   "metadata": {},
   "outputs": [],
   "source": []
  }
 ],
 "metadata": {
  "kernelspec": {
   "display_name": "Python 3 (ipykernel)",
   "language": "python",
   "name": "python3"
  },
  "language_info": {
   "codemirror_mode": {
    "name": "ipython",
    "version": 3
   },
   "file_extension": ".py",
   "mimetype": "text/x-python",
   "name": "python",
   "nbconvert_exporter": "python",
   "pygments_lexer": "ipython3",
   "version": "3.12.4"
  }
 },
 "nbformat": 4,
 "nbformat_minor": 5
}
